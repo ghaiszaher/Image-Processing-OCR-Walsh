{
 "cells": [
  {
   "cell_type": "markdown",
   "metadata": {},
   "source": [
    "# Characters Segmentation"
   ]
  },
  {
   "cell_type": "markdown",
   "metadata": {},
   "source": [
    "### imports"
   ]
  },
  {
   "cell_type": "code",
   "execution_count": 22,
   "metadata": {},
   "outputs": [],
   "source": [
    "import cv2\n",
    "import numpy as np\n",
    "# from matplotlib import pyplot as plt\n",
    "import random\n",
    "import json"
   ]
  },
  {
   "cell_type": "markdown",
   "metadata": {},
   "source": [
    "### main variables"
   ]
  },
  {
   "cell_type": "code",
   "execution_count": 2,
   "metadata": {},
   "outputs": [],
   "source": [
    "image_path = '../images/03.png'\n",
    "walsh_path = '../res/walsh.json'\n",
    "white = 0\n",
    "black = 1\n",
    "thresh = 100\n",
    "blue=(255,255,0)\n",
    "green=(0,255,0)\n",
    "red=(0,255,255)\n",
    "violet=(155,205,155)"
   ]
  },
  {
   "cell_type": "markdown",
   "metadata": {},
   "source": [
    "### functions"
   ]
  },
  {
   "cell_type": "code",
   "execution_count": 3,
   "metadata": {},
   "outputs": [],
   "source": [
    "#Source: https://stackoverflow.com/a/42314798\n",
    "\n",
    "def plotimage(img, title=None, figsize=None, invert=True):\n",
    "    import numpy as np\n",
    "    from matplotlib import pyplot as plt\n",
    "    \n",
    "    if invert:\n",
    "        img = np.max(img) - img.copy()\n",
    "    h = img.shape[0]\n",
    "    w = img.shape[1]\n",
    "    dpi = 80\n",
    "    if figsize is None:\n",
    "        figsize = w / float(dpi), h / float(dpi)\n",
    "    fig = plt.figure(figsize=figsize)\n",
    "    ax = fig.add_axes([0, 0, 1, 1])    \n",
    "    ax.axis('off')\n",
    "    ax.imshow(img, cmap='gray')\n",
    "    if title:\n",
    "        plt.title(title)\n",
    "    plt.show()\n"
   ]
  },
  {
   "cell_type": "code",
   "execution_count": 4,
   "metadata": {},
   "outputs": [],
   "source": [
    "def gray_to_bw(gray, thresh):\n",
    "    '''\n",
    "    Returns a new image\n",
    "    '''\n",
    "    import numpy as np\n",
    "\n",
    "    bw = gray.copy()\n",
    "    bw[bw<thresh]=0\n",
    "    bw[bw>=thresh]=255\n",
    "    return bw    \n"
   ]
  },
  {
   "cell_type": "code",
   "execution_count": 5,
   "metadata": {},
   "outputs": [],
   "source": [
    "def draw_borders(img, color=0):\n",
    "    \n",
    "    import numpy as np\n",
    "    \n",
    "    if len(img.shape)==2:\n",
    "        res = color * np.ones((img.shape[0]+2,img.shape[1]+2),dtype=img.dtype)\n",
    "    else:\n",
    "        res = color * np.ones((img.shape[0]+2,img.shape[1]+2,3),dtype=img.dtype)\n",
    "        \n",
    "    res[1:-1,1:-1] = img\n",
    "    return res"
   ]
  },
  {
   "cell_type": "markdown",
   "metadata": {},
   "source": [
    "### Read Image"
   ]
  },
  {
   "cell_type": "code",
   "execution_count": 6,
   "metadata": {},
   "outputs": [
    {
     "data": {
      "text/plain": [
       "<Figure size 1628.75x513.75 with 1 Axes>"
      ]
     },
     "metadata": {},
     "output_type": "display_data"
    }
   ],
   "source": [
    "img = cv2.imread(image_path)\n",
    "gray = cv2.cvtColor(img, cv2.COLOR_BGR2GRAY)\n",
    "plotimage(gray, 'GrayScale', invert=False)"
   ]
  },
  {
   "cell_type": "markdown",
   "metadata": {},
   "source": [
    "## Convert to Black and White"
   ]
  },
  {
   "cell_type": "code",
   "execution_count": 7,
   "metadata": {
    "scrolled": false
   },
   "outputs": [
    {
     "data": {
      "image/png": "[encoded data removed]",
      "text/plain": [
       "<Figure size 1080x1080 with 1 Axes>"
      ]
     },
     "metadata": {
      "needs_background": "light"
     },
     "output_type": "display_data"
    }
   ],
   "source": [
    "bw=1-gray_to_bw(gray, thresh)//255\n",
    "plotimage(bw, 'B&W', figsize=(15,15))"
   ]
  },
  {
   "cell_type": "markdown",
   "metadata": {},
   "source": [
    "### Vertical Segmentation"
   ]
  },
  {
   "cell_type": "code",
   "execution_count": 8,
   "metadata": {},
   "outputs": [],
   "source": [
    "def vert_seg(bw):\n",
    "    import numpy as np\n",
    "\n",
    "    lines = []\n",
    "\n",
    "    width = bw.shape[1]\n",
    "    height = bw.shape[0]\n",
    "\n",
    "    i = 0\n",
    "    start = 0\n",
    "    while True:\n",
    "        if black not in bw[i,:] or i==height-1:\n",
    "            if i==height-1:\n",
    "                end = i\n",
    "            else:\n",
    "                end = i-1\n",
    "                \n",
    "            if i!=start:\n",
    "                lines.append({'start': start,'end': end})            \n",
    "            start=i+1\n",
    "\n",
    "        if i==height-1:\n",
    "            break\n",
    "        i+=1    \n",
    "        \n",
    "    return lines"
   ]
  },
  {
   "cell_type": "code",
   "execution_count": 9,
   "metadata": {
    "scrolled": true
   },
   "outputs": [],
   "source": [
    "def draw_vert_lines(vert, lines):\n",
    "    import cv2\n",
    "    import numpy as np\n",
    "    \n",
    "    width = vert.shape[1]\n",
    "    height = vert.shape[0]\n",
    "    for line in lines:\n",
    "        start = line['start']\n",
    "        end = line['end']\n",
    "        cv2.line(vert, (0,start), (width,start), blue)\n",
    "        cv2.line(vert, (0,end), (width,end), red)"
   ]
  },
  {
   "cell_type": "code",
   "execution_count": 10,
   "metadata": {},
   "outputs": [
    {
     "data": {
      "image/png": "[encoded data removed]",
      "text/plain": [
       "<Figure size 1172.7x369.9 with 1 Axes>"
      ]
     },
     "metadata": {
      "needs_background": "light"
     },
     "output_type": "display_data"
    }
   ],
   "source": [
    "lines = vert_seg(bw)\n",
    "vert = 255*bw.copy()\n",
    "vert = cv2.cvtColor(vert, cv2.COLOR_GRAY2RGB)\n",
    "draw_vert_lines(vert, lines)\n",
    "plotimage(vert, 'Vertical')"
   ]
  },
  {
   "cell_type": "markdown",
   "metadata": {},
   "source": [
    "### Horizontal Segmentation"
   ]
  },
  {
   "cell_type": "code",
   "execution_count": 11,
   "metadata": {},
   "outputs": [],
   "source": [
    "def hor_seg(img):\n",
    "    \n",
    "    import numpy as np\n",
    "    \n",
    "    width = img.shape[1]\n",
    "    height = img.shape[0]\n",
    "    \n",
    "    j = 0\n",
    "    start = 0\n",
    "    chars = []\n",
    "    while True:\n",
    "        if black not in img[:,j] or j==width-1: \n",
    "            if j==width-1:\n",
    "                end = j\n",
    "            else:\n",
    "                end = j-1\n",
    "            if j!=start:\n",
    "                chars.append({'start':start,'end':end})\n",
    "                \n",
    "            start=j+1\n",
    "\n",
    "        if j==width-1:\n",
    "            break\n",
    "        j+=1\n",
    "        \n",
    "    return chars"
   ]
  },
  {
   "cell_type": "code",
   "execution_count": 12,
   "metadata": {},
   "outputs": [],
   "source": [
    "def draw_hor_lines(img, chars):\n",
    "    \n",
    "    import cv2\n",
    "    import numpy as np\n",
    "    \n",
    "    width = img.shape[1]\n",
    "    height = img.shape[0]\n",
    "    for char in chars:\n",
    "        char_start = char['start']\n",
    "        char_end = char['end']\n",
    "        cv2.line(hor, (char_start,start), (char_start,end), blue)  \n",
    "        cv2.line(hor, (char_end,start), (char_end,end), red) "
   ]
  },
  {
   "cell_type": "code",
   "execution_count": 13,
   "metadata": {},
   "outputs": [
    {
     "data": {
      "image/png": "[encoded data removed]",
      "text/plain": [
       "<Figure size 1172.7x369.9 with 1 Axes>"
      ]
     },
     "metadata": {
      "needs_background": "light"
     },
     "output_type": "display_data"
    }
   ],
   "source": [
    "i = 0\n",
    "start = 0\n",
    "\n",
    "for line in lines:\n",
    "    img = bw[line['start']:line['end'],:]\n",
    "    line['chars'] = hor_seg(img)\n",
    "\n",
    "hor = vert.copy()\n",
    "for line in lines:\n",
    "    start = line['start']\n",
    "    end = line['end']\n",
    "    draw_hor_lines(hor[start:end,:], line['chars'])\n",
    "\n",
    "plotimage(hor, 'Horizontal')"
   ]
  },
  {
   "cell_type": "markdown",
   "metadata": {},
   "source": [
    "## Plotting Some Random chars"
   ]
  },
  {
   "cell_type": "code",
   "execution_count": 16,
   "metadata": {
    "scrolled": true
   },
   "outputs": [
    {
     "data": {
      "image/png": "[encoded data removed]",
      "text/plain": [
       "<Figure size 23.4x43.2 with 1 Axes>"
      ]
     },
     "metadata": {
      "needs_background": "light"
     },
     "output_type": "display_data"
    },
    {
     "data": {
      "image/png": "[encoded data removed]",
      "text/plain": [
       "<Figure size 4.5x24.3 with 1 Axes>"
      ]
     },
     "metadata": {
      "needs_background": "light"
     },
     "output_type": "display_data"
    },
    {
     "data": {
      "image/png": "[encoded data removed]",
      "text/plain": [
       "<Figure size 11.7x24.3 with 1 Axes>"
      ]
     },
     "metadata": {
      "needs_background": "light"
     },
     "output_type": "display_data"
    },
    {
     "data": {
      "image/png": "[encoded data removed]",
      "text/plain": [
       "<Figure size 3.6x24.3 with 1 Axes>"
      ]
     },
     "metadata": {
      "needs_background": "light"
     },
     "output_type": "display_data"
    },
    {
     "data": {
      "image/png": "[encoded data removed]",
      "text/plain": [
       "<Figure size 1.8x24.3 with 1 Axes>"
      ]
     },
     "metadata": {
      "needs_background": "light"
     },
     "output_type": "display_data"
    },
    {
     "data": {
      "image/png": "[encoded data removed]",
      "text/plain": [
       "<Figure size 12.6x24.3 with 1 Axes>"
      ]
     },
     "metadata": {
      "needs_background": "light"
     },
     "output_type": "display_data"
    },
    {
     "data": {
      "image/png": "[encoded data removed]",
      "text/plain": [
       "<Figure size 7.2x24.3 with 1 Axes>"
      ]
     },
     "metadata": {
      "needs_background": "light"
     },
     "output_type": "display_data"
    },
    {
     "data": {
      "image/png": "[encoded data removed]",
      "text/plain": [
       "<Figure size 3.6x24.3 with 1 Axes>"
      ]
     },
     "metadata": {
      "needs_background": "light"
     },
     "output_type": "display_data"
    },
    {
     "data": {
      "image/png": "[encoded data removed]",
      "text/plain": [
       "<Figure size 1.8x24.3 with 1 Axes>"
      ]
     },
     "metadata": {
      "needs_background": "light"
     },
     "output_type": "display_data"
    },
    {
     "data": {
      "image/png": "[encoded data removed]",
      "text/plain": [
       "<Figure size 10.8x24.3 with 1 Axes>"
      ]
     },
     "metadata": {
      "needs_background": "light"
     },
     "output_type": "display_data"
    }
   ],
   "source": [
    "for k in range(10):\n",
    "    i = random.randint(0,len(lines)-1)\n",
    "    line = lines[i]\n",
    "    j = random.randint(0,len(line['chars'])-1)\n",
    "    char = line['chars'][j]\n",
    "    \n",
    "    img = bw[line['start']:line['end'],char['start']:char['end']]\n",
    "    \n",
    "    plotimage(img,'')"
   ]
  },
  {
   "cell_type": "markdown",
   "metadata": {},
   "source": [
    "### Vertical Segmentation for every Char"
   ]
  },
  {
   "cell_type": "code",
   "execution_count": 17,
   "metadata": {},
   "outputs": [],
   "source": [
    "for line in lines:\n",
    "    for char in line['chars']:\n",
    "        img = bw[line['start']:line['end'],char['start']:char['end']]\n",
    "        char['vertical_parts'] = vert_seg(img)"
   ]
  },
  {
   "cell_type": "code",
   "execution_count": 18,
   "metadata": {
    "scrolled": false
   },
   "outputs": [
    {
     "name": "stdout",
     "output_type": "stream",
     "text": [
      "[{'start': 0, 'end': 21}]\n"
     ]
    },
    {
     "data": {
      "image/png": "[encoded data removed]",
      "text/plain": [
       "<Figure size 144x144 with 1 Axes>"
      ]
     },
     "metadata": {
      "needs_background": "light"
     },
     "output_type": "display_data"
    },
    {
     "name": "stdout",
     "output_type": "stream",
     "text": [
      "[{'start': 6, 'end': 21}]\n"
     ]
    },
    {
     "data": {
      "image/png": "[encoded data removed]",
      "text/plain": [
       "<Figure size 144x144 with 1 Axes>"
      ]
     },
     "metadata": {
      "needs_background": "light"
     },
     "output_type": "display_data"
    },
    {
     "name": "stdout",
     "output_type": "stream",
     "text": [
      "[{'start': 6, 'end': 26}]\n"
     ]
    },
    {
     "data": {
      "image/png": "[encoded data removed]",
      "text/plain": [
       "<Figure size 144x144 with 1 Axes>"
      ]
     },
     "metadata": {
      "needs_background": "light"
     },
     "output_type": "display_data"
    },
    {
     "name": "stdout",
     "output_type": "stream",
     "text": [
      "[{'start': 0, 'end': 26}]\n"
     ]
    },
    {
     "data": {
      "image/png": "[encoded data removed]",
      "text/plain": [
       "<Figure size 144x144 with 1 Axes>"
      ]
     },
     "metadata": {
      "needs_background": "light"
     },
     "output_type": "display_data"
    },
    {
     "name": "stdout",
     "output_type": "stream",
     "text": [
      "[{'start': 0, 'end': 21}]\n"
     ]
    },
    {
     "data": {
      "image/png": "[encoded data removed]",
      "text/plain": [
       "<Figure size 144x144 with 1 Axes>"
      ]
     },
     "metadata": {
      "needs_background": "light"
     },
     "output_type": "display_data"
    },
    {
     "name": "stdout",
     "output_type": "stream",
     "text": [
      "[{'start': 2, 'end': 38}]\n"
     ]
    },
    {
     "data": {
      "image/png": "[encoded data removed]",
      "text/plain": [
       "<Figure size 144x144 with 1 Axes>"
      ]
     },
     "metadata": {
      "needs_background": "light"
     },
     "output_type": "display_data"
    },
    {
     "name": "stdout",
     "output_type": "stream",
     "text": [
      "[{'start': 11, 'end': 47}]\n"
     ]
    },
    {
     "data": {
      "image/png": "[encoded data removed]",
      "text/plain": [
       "<Figure size 144x144 with 1 Axes>"
      ]
     },
     "metadata": {
      "needs_background": "light"
     },
     "output_type": "display_data"
    },
    {
     "name": "stdout",
     "output_type": "stream",
     "text": [
      "[{'start': 6, 'end': 21}]\n"
     ]
    },
    {
     "data": {
      "image/png": "[encoded data removed]",
      "text/plain": [
       "<Figure size 144x144 with 1 Axes>"
      ]
     },
     "metadata": {
      "needs_background": "light"
     },
     "output_type": "display_data"
    },
    {
     "name": "stdout",
     "output_type": "stream",
     "text": [
      "[{'start': 0, 'end': 21}]\n"
     ]
    },
    {
     "data": {
      "image/png": "[encoded data removed]",
      "text/plain": [
       "<Figure size 144x144 with 1 Axes>"
      ]
     },
     "metadata": {
      "needs_background": "light"
     },
     "output_type": "display_data"
    },
    {
     "name": "stdout",
     "output_type": "stream",
     "text": [
      "[{'start': 10, 'end': 38}]\n"
     ]
    },
    {
     "data": {
      "image/png": "[encoded data removed]",
      "text/plain": [
       "<Figure size 144x144 with 1 Axes>"
      ]
     },
     "metadata": {
      "needs_background": "light"
     },
     "output_type": "display_data"
    }
   ],
   "source": [
    "for k in range(10):\n",
    "    i = random.randint(0,len(lines)-1)\n",
    "    line = lines[i]\n",
    "    j = random.randint(0,len(line['chars'])-1)\n",
    "    char = line['chars'][j]\n",
    "    \n",
    "    img = 255*bw[line['start']:line['end'],char['start']:char['end']]\n",
    "    img = cv2.cvtColor(img, cv2.COLOR_GRAY2BGR) \n",
    "    \n",
    "    draw_vert_lines(img, char['vertical_parts'])\n",
    "            \n",
    "    img = draw_borders(img, color=violet)\n",
    "#     img = draw_borders(img, color=0)\n",
    "    print(char['vertical_parts'])\n",
    "    plotimage(img,'', (2,2))"
   ]
  },
  {
   "cell_type": "markdown",
   "metadata": {},
   "source": [
    "## Walsh-Functions"
   ]
  },
  {
   "cell_type": "markdown",
   "metadata": {},
   "source": [
    "### Read walsh functions"
   ]
  },
  {
   "cell_type": "code",
   "execution_count": 23,
   "metadata": {},
   "outputs": [],
   "source": [
    "with open(walsh_path) as f:\n",
    "    s = f.read()\n",
    "walsh_list = json.loads(s)\n",
    "walsh = []\n",
    "for l in walsh_list:\n",
    "    walsh.append(np.array(l))"
   ]
  },
  {
   "cell_type": "markdown",
   "metadata": {},
   "source": [
    "### Calculcate Walsh Vectors"
   ]
  },
  {
   "cell_type": "code",
   "execution_count": 24,
   "metadata": {},
   "outputs": [],
   "source": [
    "def inner_prod(a,b):\n",
    "    '''\n",
    "    a and b are 2D numpy arrays, with exact same shape\n",
    "    '''\n",
    "    return int(np.sum(np.abs(a-b)))"
   ]
  },
  {
   "cell_type": "code",
   "execution_count": 25,
   "metadata": {
    "scrolled": true
   },
   "outputs": [
    {
     "data": {
      "image/png": "[encoded data removed]",
      "text/plain": [
       "<Figure size 25.2x45 with 1 Axes>"
      ]
     },
     "metadata": {
      "needs_background": "light"
     },
     "output_type": "display_data"
    },
    {
     "data": {
      "image/png": "[encoded data removed]",
      "text/plain": [
       "<Figure size 59.4x59.4 with 1 Axes>"
      ]
     },
     "metadata": {
      "needs_background": "light"
     },
     "output_type": "display_data"
    },
    {
     "name": "stdout",
     "output_type": "stream",
     "text": [
      "Walsh [2225, 3841, 4107, 4031, 3957, 4261, 4071, 4123, 3915, 4215, 3833, 4329, 3923, 4263, 3913, 4241, 4587, 3339, 3429, 3801, 4087, 4151, 3737, 3981, 4265, 4261, 4135, 4007, 4105, 4061, 4063, 4103, 4413, 4781, 3971, 3991, 4037, 3717, 4115, 4039, 4131, 4095, 4357, 4133, 4111, 4019, 4169, 4081, 4319, 3799, 4093, 3993, 3999, 4167, 4101, 4097, 4113, 4069, 4043, 4115, 4085, 4097, 4135, 4071]\n"
     ]
    },
    {
     "data": {
      "image/png": "[encoded data removed]",
      "text/plain": [
       "<Figure size 16.2x26.1 with 1 Axes>"
      ]
     },
     "metadata": {
      "needs_background": "light"
     },
     "output_type": "display_data"
    },
    {
     "data": {
      "image/png": "[encoded data removed]",
      "text/plain": [
       "<Figure size 59.4x59.4 with 1 Axes>"
      ]
     },
     "metadata": {
      "needs_background": "light"
     },
     "output_type": "display_data"
    },
    {
     "name": "stdout",
     "output_type": "stream",
     "text": [
      "Walsh [2644, 4096, 4604, 4096, 3604, 4096, 4588, 4096, 4096, 4096, 4096, 4096, 4096, 4096, 4096, 4096, 3284, 4096, 3964, 4096, 4244, 4096, 3948, 4096, 4096, 4096, 4096, 4096, 4096, 4096, 4096, 4096, 3284, 4096, 3964, 4096, 4244, 4096, 3948, 4096, 4096, 4096, 4096, 4096, 4096, 4096, 4096, 4096, 3284, 4096, 3964, 4096, 4244, 4096, 3948, 4096, 4096, 4096, 4096, 4096, 4096, 4096, 4096, 4096]\n"
     ]
    },
    {
     "data": {
      "image/png": "[encoded data removed]",
      "text/plain": [
       "<Figure size 16.2x26.1 with 1 Axes>"
      ]
     },
     "metadata": {
      "needs_background": "light"
     },
     "output_type": "display_data"
    },
    {
     "data": {
      "image/png": "[encoded data removed]",
      "text/plain": [
       "<Figure size 59.4x59.4 with 1 Axes>"
      ]
     },
     "metadata": {
      "needs_background": "light"
     },
     "output_type": "display_data"
    },
    {
     "name": "stdout",
     "output_type": "stream",
     "text": [
      "Walsh [2898, 3614, 3642, 3614, 3714, 3726, 3738, 3726, 4316, 4060, 4060, 4060, 4068, 4068, 4068, 4068, 4718, 4002, 3974, 4002, 4030, 4018, 4006, 4018, 3876, 4132, 4132, 4132, 4124, 4124, 4124, 4124, 3474, 4190, 4218, 4190, 4162, 4174, 4186, 4174, 4316, 4060, 4060, 4060, 4068, 4068, 4068, 4068, 4718, 4002, 3974, 4002, 4030, 4018, 4006, 4018, 3876, 4132, 4132, 4132, 4124, 4124, 4124, 4124]\n"
     ]
    },
    {
     "data": {
      "image/png": "[encoded data removed]",
      "text/plain": [
       "<Figure size 2.7x26.1 with 1 Axes>"
      ]
     },
     "metadata": {
      "needs_background": "light"
     },
     "output_type": "display_data"
    },
    {
     "data": {
      "image/png": "[encoded data removed]",
      "text/plain": [
       "<Figure size 59.4x59.4 with 1 Axes>"
      ]
     },
     "metadata": {
      "needs_background": "light"
     },
     "output_type": "display_data"
    },
    {
     "name": "stdout",
     "output_type": "stream",
     "text": [
      "Walsh [0, 4096, 4096, 4096, 4096, 4096, 4096, 4096, 4096, 4096, 4096, 4096, 4096, 4096, 4096, 4096, 4096, 4096, 4096, 4096, 4096, 4096, 4096, 4096, 4096, 4096, 4096, 4096, 4096, 4096, 4096, 4096, 4096, 4096, 4096, 4096, 4096, 4096, 4096, 4096, 4096, 4096, 4096, 4096, 4096, 4096, 4096, 4096, 4096, 4096, 4096, 4096, 4096, 4096, 4096, 4096, 4096, 4096, 4096, 4096, 4096, 4096, 4096, 4096]\n"
     ]
    },
    {
     "data": {
      "image/png": "[encoded data removed]",
      "text/plain": [
       "<Figure size 12.6x26.1 with 1 Axes>"
      ]
     },
     "metadata": {
      "needs_background": "light"
     },
     "output_type": "display_data"
    },
    {
     "data": {
      "image/png": "[encoded data removed]",
      "text/plain": [
       "<Figure size 59.4x59.4 with 1 Axes>"
      ]
     },
     "metadata": {
      "needs_background": "light"
     },
     "output_type": "display_data"
    },
    {
     "name": "stdout",
     "output_type": "stream",
     "text": [
      "Walsh [2165, 3801, 3809, 3813, 4043, 4043, 4039, 4031, 3811, 4155, 4159, 4167, 4225, 4221, 4205, 4209, 2773, 4409, 4401, 4405, 4275, 4275, 4287, 4279, 3839, 4183, 4171, 4179, 4013, 4009, 4009, 4013, 3759, 4171, 4163, 4159, 4029, 4029, 4033, 4041, 4321, 3977, 3973, 3965, 3943, 3947, 3963, 3959, 3719, 4131, 4139, 4135, 4165, 4165, 4153, 4161, 4285, 3941, 3953, 3945, 4075, 4079, 4079, 4075]\n"
     ]
    },
    {
     "data": {
      "image/png": "[encoded data removed]",
      "text/plain": [
       "<Figure size 7.2x26.1 with 1 Axes>"
      ]
     },
     "metadata": {
      "needs_background": "light"
     },
     "output_type": "display_data"
    },
    {
     "data": {
      "image/png": "[encoded data removed]",
      "text/plain": [
       "<Figure size 59.4x59.4 with 1 Axes>"
      ]
     },
     "metadata": {
      "needs_background": "light"
     },
     "output_type": "display_data"
    },
    {
     "name": "stdout",
     "output_type": "stream",
     "text": [
      "Walsh [2536, 3946, 4288, 4498, 4304, 4514, 3752, 3962, 4226, 4016, 4226, 4016, 4226, 4016, 4226, 4016, 5146, 3988, 4162, 4204, 4146, 4188, 3930, 3972, 4092, 4050, 4092, 4050, 4092, 4050, 4092, 4050, 3418, 4152, 4098, 3984, 4082, 3968, 4250, 4136, 4056, 4170, 4056, 4170, 4056, 4170, 4056, 4170, 4804, 4010, 4124, 4178, 4140, 4194, 3972, 4026, 4106, 4052, 4106, 4052, 4106, 4052, 4106, 4052]\n"
     ]
    },
    {
     "data": {
      "image/png": "[encoded data removed]",
      "text/plain": [
       "<Figure size 12.6x26.1 with 1 Axes>"
      ]
     },
     "metadata": {
      "needs_background": "light"
     },
     "output_type": "display_data"
    },
    {
     "data": {
      "image/png": "[encoded data removed]",
      "text/plain": [
       "<Figure size 59.4x59.4 with 1 Axes>"
      ]
     },
     "metadata": {
      "needs_background": "light"
     },
     "output_type": "display_data"
    },
    {
     "name": "stdout",
     "output_type": "stream",
     "text": [
      "Walsh [2165, 3801, 3809, 3813, 4043, 4043, 4039, 4031, 3811, 4155, 4159, 4167, 4225, 4221, 4205, 4209, 2773, 4409, 4401, 4405, 4275, 4275, 4287, 4279, 3839, 4183, 4171, 4179, 4013, 4009, 4009, 4013, 3759, 4171, 4163, 4159, 4029, 4029, 4033, 4041, 4321, 3977, 3973, 3965, 3943, 3947, 3963, 3959, 3719, 4131, 4139, 4135, 4165, 4165, 4153, 4161, 4285, 3941, 3953, 3945, 4075, 4079, 4079, 4075]\n"
     ]
    }
   ],
   "source": [
    "c = 7 #samples to plot\n",
    "\n",
    "for line in lines:\n",
    "    for char in line['chars']:\n",
    "        start=line['start']\n",
    "        end=line['end']\n",
    "        \n",
    "        if char['vertical_parts'] and len(char['vertical_parts'])>0:\n",
    "            start=line['start']+char['vertical_parts'][0]['start']\n",
    "            end=line['start']+char['vertical_parts'][-1]['end']\n",
    "                    \n",
    "        img = bw[start:end,char['start']:char['end']]\n",
    "        img = img.copy()\n",
    "        img = cv2.resize(img, (64,64))\n",
    "        v = []\n",
    "        for w in walsh:\n",
    "            v.append(inner_prod(img, w))\n",
    "        char['walsh_vector'] = v        \n",
    "        \n",
    "        if c and np.random.randint(10)==0:\n",
    "            original_img = bw[line['start']:line['end'],char['start']:char['end']]\n",
    "            plotimage(draw_borders(original_img,black),title='Original')\n",
    "            plotimage(draw_borders(img,black), title='Resized')\n",
    "            print(\"Walsh\", v)\n",
    "            c-=1\n",
    "        "
   ]
  },
  {
   "cell_type": "markdown",
   "metadata": {},
   "source": [
    "## <font color=\"red\">ERRORS:</font>\n",
    "* Letter I appears as 64x64 black image, same as a dot (.)\n",
    "* Letter i appears as two big stripes"
   ]
  },
  {
   "cell_type": "markdown",
   "metadata": {},
   "source": [
    "### Vector Comparison"
   ]
  },
  {
   "cell_type": "code",
   "execution_count": 26,
   "metadata": {},
   "outputs": [],
   "source": [
    "def normalize(v):\n",
    "    norm = np.linalg.norm(v)\n",
    "    if norm == 0: \n",
    "        return v\n",
    "    return v / norm"
   ]
  },
  {
   "cell_type": "code",
   "execution_count": 27,
   "metadata": {},
   "outputs": [],
   "source": [
    "def distance(v1, v2):\n",
    "    return np.dot((v1), (v2))"
   ]
  },
  {
   "cell_type": "code",
   "execution_count": 28,
   "metadata": {},
   "outputs": [
    {
     "data": {
      "text/plain": [
       "1061649344"
      ]
     },
     "execution_count": 28,
     "metadata": {},
     "output_type": "execute_result"
    }
   ],
   "source": [
    "v1 = lines[1]['chars'][4]['walsh_vector']\n",
    "v2 = lines[2]['chars'][5]['walsh_vector']\n",
    "\n",
    "distance(v1, v2)"
   ]
  },
  {
   "cell_type": "markdown",
   "metadata": {},
   "source": [
    "### Save result in a json file"
   ]
  },
  {
   "cell_type": "code",
   "execution_count": 29,
   "metadata": {},
   "outputs": [],
   "source": [
    "s = json.dumps({\"image_path\": image_path, \"threshold\": thresh, \"lines\":lines}, indent=2)\n",
    "with open(image_path+'.lines.json', 'w') as f:\n",
    "    f.write(s)"
   ]
  }
 ],
 "metadata": {
  "kernelspec": {
   "display_name": "Python 3",
   "language": "python",
   "name": "python3"
  },
  "language_info": {
   "codemirror_mode": {
    "name": "ipython",
    "version": 3
   },
   "file_extension": ".py",
   "mimetype": "text/x-python",
   "name": "python",
   "nbconvert_exporter": "python",
   "pygments_lexer": "ipython3",
   "version": "3.7.1"
  }
 },
 "nbformat": 4,
 "nbformat_minor": 2
}
