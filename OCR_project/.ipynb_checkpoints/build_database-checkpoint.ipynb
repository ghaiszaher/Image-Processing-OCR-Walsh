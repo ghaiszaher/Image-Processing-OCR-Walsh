{
 "cells": [
  {
   "cell_type": "code",
   "execution_count": 1,
   "metadata": {},
   "outputs": [],
   "source": [
    "import cv2\n",
    "import numpy as np\n",
    "from matplotlib import pyplot as plt\n",
    "import random\n",
    "import json\n",
    "import pandas\n",
    "from PIL import ImageDraw, Image, ImageFont\n",
    "from mylib import *"
   ]
  },
  {
   "cell_type": "markdown",
   "metadata": {},
   "source": [
    "### Load Walsh Values"
   ]
  },
  {
   "cell_type": "code",
   "execution_count": 2,
   "metadata": {},
   "outputs": [],
   "source": [
    "walsh_path = '../res/walsh.json'\n",
    "\n",
    "with open(walsh_path) as f:\n",
    "    s = f.read()\n",
    "walsh_list = json.loads(s)\n",
    "walsh = []\n",
    "for l in walsh_list:\n",
    "    walsh.append(np.array(l))"
   ]
  },
  {
   "cell_type": "markdown",
   "metadata": {},
   "source": [
    "## PIL"
   ]
  },
  {
   "cell_type": "code",
   "execution_count": 3,
   "metadata": {},
   "outputs": [],
   "source": [
    "chars = list(range(ord('A'), ord('Z'))) + list(range(ord('a'), ord('z')))\n",
    "chars = [chr(x) for x in chars]\n",
    "chars += [x for x in '.,!?()[]!@$&1234567890;:\\'\"']"
   ]
  },
  {
   "cell_type": "code",
   "execution_count": 4,
   "metadata": {},
   "outputs": [],
   "source": [
    "fontsize = 100\n",
    "img_fraction = 0.5\n",
    "ttf_url = \"../fonts-ttf/FreeSans.ttf\"\n",
    "font = ImageFont.truetype(ttf_url, fontsize)\n",
    "letters = []\n",
    "\n",
    "for c in chars:\n",
    "    a = np.zeros([150,150],dtype=np.uint16)\n",
    "    img = Image.fromarray(a,mode='L')\n",
    "    draw = ImageDraw.Draw(img)\n",
    "    txt = c\n",
    "#     print(\"Text:\",txt)\n",
    "#     while font.getsize(txt)[0] < img_fraction*img.size[1]:\n",
    "#         fontsize += 1\n",
    "#         font = ImageFont.truetype(ttf_url, fontsize)\n",
    "\n",
    "    fontsize = 100\n",
    "    font = ImageFont.truetype(ttf_url, fontsize)\n",
    "#     print('final font size',fontsize)\n",
    "\n",
    "\n",
    "\n",
    "    draw.text((30,0), txt, font=font, fill=255)\n",
    "\n",
    "#     plt.figure()\n",
    "#     plt.imshow(img, cmap='gray')\n",
    "\n",
    "    thresh = 1\n",
    "    bw = gray_to_bw(np.array(img), thresh)\n",
    "    bw = bw // np.max(bw)\n",
    "\n",
    "\n",
    "    lines_vert = vert_seg(bw)[0]\n",
    "\n",
    "    lines_hor = hor_seg(bw)[0]\n",
    "\n",
    "    bw = bw[lines_vert['start']:lines_vert['end'], lines_hor['start']:lines_hor['end']]\n",
    "\n",
    "    bw = cv2.resize(bw, (64,64))\n",
    "\n",
    "    v = []\n",
    "    for w in walsh:\n",
    "        v.append(distance(bw, w))\n",
    "\n",
    "    data = {'character': txt, 'walsh_vector': v}\n",
    "\n",
    "    letters.append(data)"
   ]
  },
  {
   "cell_type": "code",
   "execution_count": 5,
   "metadata": {},
   "outputs": [],
   "source": [
    "with open(\"../res/database.json\", \"w\") as f:\n",
    "    f.write(json.dumps(letters, indent=2))"
   ]
  }
 ],
 "metadata": {
  "kernelspec": {
   "display_name": "Python 3",
   "language": "python",
   "name": "python3"
  },
  "language_info": {
   "codemirror_mode": {
    "name": "ipython",
    "version": 3
   },
   "file_extension": ".py",
   "mimetype": "text/x-python",
   "name": "python",
   "nbconvert_exporter": "python",
   "pygments_lexer": "ipython3",
   "version": "3.7.1"
  }
 },
 "nbformat": 4,
 "nbformat_minor": 2
}
