{
 "cells": [
  {
   "cell_type": "markdown",
   "metadata": {},
   "source": [
    "# Dilation, Erosion, Opening and Closing"
   ]
  },
  {
   "cell_type": "markdown",
   "metadata": {},
   "source": [
    "### imports"
   ]
  },
  {
   "cell_type": "code",
   "execution_count": 1,
   "metadata": {},
   "outputs": [],
   "source": [
    "import cv2\n",
    "import numpy as np\n",
    "from matplotlib import pyplot as plt\n",
    "import random"
   ]
  },
  {
   "cell_type": "markdown",
   "metadata": {},
   "source": [
    "### main variables"
   ]
  },
  {
   "cell_type": "code",
   "execution_count": 2,
   "metadata": {},
   "outputs": [],
   "source": [
    "image_path = \"images/dilate_word.png\""
   ]
  },
  {
   "cell_type": "markdown",
   "metadata": {},
   "source": [
    "### functions\n"
   ]
  },
  {
   "cell_type": "code",
   "execution_count": 3,
   "metadata": {},
   "outputs": [],
   "source": [
    "#Source: https://stackoverflow.com/a/42314798\n",
    "\n",
    "def plotimage(img, title=None, figsize=None, invert=False):\n",
    "    if invert:\n",
    "        img = np.max(img) - img.copy()\n",
    "        \n",
    "    h = img.shape[0]\n",
    "    w = img.shape[1]\n",
    "    dpi = 80\n",
    "    if figsize is None:\n",
    "        figsize = w / float(dpi), h / float(dpi)\n",
    "    fig = plt.figure(figsize=figsize)\n",
    "    ax = fig.add_axes([0, 0, 1, 1])    \n",
    "    ax.axis('off')\n",
    "    ax.imshow(img, cmap='gray')\n",
    "    if title:\n",
    "        plt.title(title)\n",
    "    plt.show()"
   ]
  },
  {
   "cell_type": "code",
   "execution_count": 4,
   "metadata": {},
   "outputs": [],
   "source": [
    "def gray_to_bw(gray, thresh):\n",
    "    '''\n",
    "    Returns a new image\n",
    "    '''\n",
    "    bw = gray.copy()\n",
    "    bw[bw<thresh]=0\n",
    "    bw[bw>=thresh]=255\n",
    "    return bw    "
   ]
  },
  {
   "cell_type": "markdown",
   "metadata": {},
   "source": [
    "### code"
   ]
  },
  {
   "cell_type": "code",
   "execution_count": 5,
   "metadata": {},
   "outputs": [
    {
     "data": {
      "image/png": "[encoded data removed]",
      "text/plain": [
       "<Figure size 360x360 with 1 Axes>"
      ]
     },
     "metadata": {
      "needs_background": "light"
     },
     "output_type": "display_data"
    },
    {
     "data": {
      "text/plain": [
       "array([[0, 0, 0, ..., 0, 0, 0],\n",
       "       [0, 0, 0, ..., 0, 0, 0],\n",
       "       [0, 0, 0, ..., 0, 0, 0],\n",
       "       ...,\n",
       "       [0, 0, 0, ..., 0, 0, 0],\n",
       "       [0, 0, 0, ..., 0, 0, 0],\n",
       "       [0, 0, 0, ..., 0, 0, 0]], dtype=uint8)"
      ]
     },
     "execution_count": 5,
     "metadata": {},
     "output_type": "execute_result"
    }
   ],
   "source": [
    "img = cv2.imread(image_path)\n",
    "gray = cv2.cvtColor(img, cv2.COLOR_BGR2GRAY)\n",
    "bw = gray_to_bw(gray, 100)//255\n",
    "bw = 1 - bw #invert\n",
    "plotimage(bw, 'Black and White Image', (5,5), invert=True)\n",
    "bw"
   ]
  },
  {
   "cell_type": "code",
   "execution_count": 6,
   "metadata": {},
   "outputs": [
    {
     "data": {
      "image/png": "[encoded data removed]",
      "text/plain": [
       "<Figure size 360x360 with 1 Axes>"
      ]
     },
     "metadata": {
      "needs_background": "light"
     },
     "output_type": "display_data"
    }
   ],
   "source": [
    "mask = np.array((\n",
    "    (0,1,0),\n",
    "    (1,1,1),\n",
    "    (0,1,0)\n",
    "))\n",
    "\n",
    "mask_center = (1,1)\n",
    "\n",
    "mask_plot = 10*mask.copy()\n",
    "mask_plot[mask_center[0],mask_center[1]]=9\n",
    "plotimage(mask_plot,'Mask',(5,5), invert=True)"
   ]
  },
  {
   "cell_type": "markdown",
   "metadata": {},
   "source": [
    "## Dilation & Erosion"
   ]
  },
  {
   "cell_type": "code",
   "execution_count": 7,
   "metadata": {},
   "outputs": [],
   "source": [
    "def dilation(bw, mask, mask_center):\n",
    "    res = bw.copy()\n",
    "    maskwidth = mask.shape[0]\n",
    "    maskheight = mask.shape[1]    \n",
    "    for i in range(0, res.shape[0]):\n",
    "        for j in range(0, res.shape[1]):\n",
    "            if bw[i,j]!=mask[mask_center[0],mask_center[1]]:\n",
    "                continue\n",
    "                \n",
    "            for r in range(0, maskwidth):\n",
    "                for c in range(0, maskheight):\n",
    "                    if not mask[r,c]:\n",
    "                        continue\n",
    "                        \n",
    "                    newr,newc = (r-mask_center[0],c-mask_center[1])\n",
    "                    if newr+i<0 or newr+i>=res.shape[0]:\n",
    "                        continue\n",
    "                    if newc+j<0 or newc+j>=res.shape[1]:\n",
    "                        continue\n",
    "                        \n",
    "                    res[newr+i,newc+j]=1\n",
    "                    \n",
    "    return res"
   ]
  },
  {
   "cell_type": "code",
   "execution_count": 8,
   "metadata": {},
   "outputs": [],
   "source": [
    "def erosion(bw, mask, mask_center):\n",
    "    res = np.zeros_like(bw)\n",
    "    maskwidth = mask.shape[0]\n",
    "    maskheight = mask.shape[1]    \n",
    "    \n",
    "    for i in range(0,bw.shape[0]-maskwidth+1):\n",
    "        for j in range(0,bw.shape[1]-maskheight+1):\n",
    "            if np.array_equal(bw[i:i+maskwidth,j:j+maskheight]&mask,mask):\n",
    "                res[i+mask_center[0],j+mask_center[1]]=1\n",
    "    \n",
    "    return res"
   ]
  },
  {
   "cell_type": "code",
   "execution_count": 9,
   "metadata": {
    "scrolled": false
   },
   "outputs": [
    {
     "data": {
      "image/png": "[encoded data removed]",
      "text/plain": [
       "<Figure size 360x360 with 1 Axes>"
      ]
     },
     "metadata": {
      "needs_background": "light"
     },
     "output_type": "display_data"
    },
    {
     "data": {
      "image/png": "[encoded data removed]",
      "text/plain": [
       "<Figure size 360x360 with 1 Axes>"
      ]
     },
     "metadata": {
      "needs_background": "light"
     },
     "output_type": "display_data"
    },
    {
     "data": {
      "text/plain": [
       "array([[0, 0, 0, ..., 0, 0, 0],\n",
       "       [0, 0, 0, ..., 0, 0, 0],\n",
       "       [0, 0, 0, ..., 0, 0, 0],\n",
       "       ...,\n",
       "       [0, 0, 0, ..., 0, 0, 0],\n",
       "       [0, 0, 0, ..., 0, 0, 0],\n",
       "       [0, 0, 0, ..., 0, 0, 0]], dtype=uint8)"
      ]
     },
     "execution_count": 9,
     "metadata": {},
     "output_type": "execute_result"
    }
   ],
   "source": [
    "d = dilation(bw, mask, mask_center)\n",
    "plotimage(bw, \"Original\",(5,5), invert=True)\n",
    "plotimage(d, \"Dilation\",(5,5), invert=True)\n",
    "d"
   ]
  },
  {
   "cell_type": "code",
   "execution_count": 10,
   "metadata": {},
   "outputs": [
    {
     "data": {
      "image/png": "[encoded data removed]",
      "text/plain": [
       "<Figure size 360x360 with 1 Axes>"
      ]
     },
     "metadata": {
      "needs_background": "light"
     },
     "output_type": "display_data"
    },
    {
     "data": {
      "image/png": "[encoded data removed]",
      "text/plain": [
       "<Figure size 360x360 with 1 Axes>"
      ]
     },
     "metadata": {
      "needs_background": "light"
     },
     "output_type": "display_data"
    },
    {
     "data": {
      "text/plain": [
       "array([[0, 0, 0, ..., 0, 0, 0],\n",
       "       [0, 0, 0, ..., 0, 0, 0],\n",
       "       [0, 0, 0, ..., 0, 0, 0],\n",
       "       ...,\n",
       "       [0, 0, 0, ..., 0, 0, 0],\n",
       "       [0, 0, 0, ..., 0, 0, 0],\n",
       "       [0, 0, 0, ..., 0, 0, 0]], dtype=uint8)"
      ]
     },
     "execution_count": 10,
     "metadata": {},
     "output_type": "execute_result"
    }
   ],
   "source": [
    "e = erosion(bw, mask, mask_center)\n",
    "plotimage(bw, \"Original\",(5,5), invert=True)\n",
    "plotimage(e, \"Erosion\",(5,5), invert=True)\n",
    "e"
   ]
  },
  {
   "cell_type": "markdown",
   "metadata": {},
   "source": [
    "## Opening & Closing"
   ]
  },
  {
   "cell_type": "code",
   "execution_count": null,
   "metadata": {},
   "outputs": [],
   "source": []
  }
 ],
 "metadata": {
  "kernelspec": {
   "display_name": "Python 3",
   "language": "python",
   "name": "python3"
  },
  "language_info": {
   "codemirror_mode": {
    "name": "ipython",
    "version": 3
   },
   "file_extension": ".py",
   "mimetype": "text/x-python",
   "name": "python",
   "nbconvert_exporter": "python",
   "pygments_lexer": "ipython3",
   "version": "3.7.1"
  }
 },
 "nbformat": 4,
 "nbformat_minor": 2
}
